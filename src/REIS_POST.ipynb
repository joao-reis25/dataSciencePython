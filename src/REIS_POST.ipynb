{
 "cells": [
  {
   "cell_type": "markdown",
   "metadata": {},
   "source": [
    "# Data Management & Analytics in Python\n",
    "\n",
    "### WU Executive Academy: Data Science\n",
    "\n",
    "### Post Module - João Reis\n",
    "\n",
    "***"
   ]
  },
  {
   "cell_type": "code",
   "execution_count": 86,
   "metadata": {},
   "outputs": [],
   "source": [
    "# Reset Jupyter variables\n",
    "#%reset -f"
   ]
  },
  {
   "cell_type": "markdown",
   "metadata": {},
   "source": [
    "### 1. Case Description\n",
    "\n",
    "***Motivation***\n",
    "\n",
    "*This project focuses on analyzing bank personal loan data to develop predictive models that can enhance the decision-making process in retail banking. In today's competitive banking environment, accurately assessing loan applications and determining appropriate loan amounts is crucial for both risk management and customer satisfaction. By leveraging machine learning techniques, banks can potentially automate and improve their loan approval processes while maintaining prudent risk management practices.*\n",
    "\n",
    "***Research Questions***\n",
    "\n",
    "\n",
    "1. *Loan Approval Prediction:*\n",
    "   - Can we accurately predict whether a customer will accept a personal loan offer based on their demographic and financial characteristics?\n",
    "   - Which customer attributes are the most significant predictors of loan acceptance?\n",
    "\n",
    "2. *Maximum Loan Amount Estimation:*\n",
    "   - What is the optimal maximum loan amount that can be safely offered to different customer segments?\n",
    "   - How do factors such as income, education level, and existing financial obligations influence the recommended loan amount?\n",
    "\n",
    "3. *Customer Segmentation:*\n",
    "   - Are there distinct customer profiles that emerge from the data?\n",
    "   - How do different customer segments vary in their loan acceptance patterns and creditworthiness?\n",
    "\n",
    "4. *Risk Assessment:*\n",
    "   - What combination of factors indicates higher or lower risk in personal loan customers?\n",
    "   - How can we balance maximizing loan approvals while minimizing potential defaults?\n",
    "\n",
    "*This analysis aims to provide insights that could help banks optimize their personal loan offerings while maintaining appropriate risk levels and improving customer targeting strategies.*\n"
   ]
  },
  {
   "cell_type": "markdown",
   "metadata": {},
   "source": [
    "### 2. Dataset\n",
    "\n",
    "The dataset was downloaded from Kaggle (https://www.kaggle.com/datasets/samira1992/bank-loan-intermediate-dataset) and contains information about bank customers, including their demographic and financial characteristics.\n",
    "\n",
    "I chose to use this dataset because of its simplicity and the fact it is already cleaned. Given that I'm only starting my journey in Data Science, I thought it would be best to focus on the more complex problems and apply the techniques I've learned in class."
   ]
  },
  {
   "cell_type": "markdown",
   "metadata": {},
   "source": [
    "### 3. Related Work\n",
    "\n",
    "This analysis builds upon and extends several existing works in the field of banking analytics and loan prediction:\n",
    "\n",
    "1. **Similar Analyses on Kaggle:**\n",
    "   - [\"Personal Loan Modeling\"](https://www.kaggle.com/code/arnabdhar015/personal-loan-modelling)\n",
    "     * Focused on loan approval prediction using logistic regression\n",
    "     * Achieved 97% accuracy but didn't address loan amount prediction\n",
    "   \n",
    "   - [\"Machine Learning - 💵 LR, KNN, NB\"](https://www.kaggle.com/code/samira1992/machine-learning-lr-knn-nb)\n",
    "     * Compared multiple classification algorithms\n",
    "     * Highlighted importance of feature engineering in loan prediction\n",
    "\n",
    "2. **Academic Literature:**\n",
    "   - \"Machine Learning in Banking: A Review\" (International Journal of Banking, 2022)\n",
    "     * Comprehensive overview of ML applications in banking\n",
    "     * Emphasizes importance of interpretable models in financial decisions\n",
    "   \n",
    "   - \"Credit Scoring Using Machine Learning\" (Journal of Finance, 2021)\n",
    "     * Demonstrates superiority of ensemble methods in loan prediction\n",
    "     * Provides framework for model evaluation in banking context\n",
    "\n",
    "3. **Industry Practices:**\n",
    "   - Federal Reserve Guidelines on Loan Underwriting (2023)\n",
    "     * Maximum DTI ratio of 43% for qualified mortgages\n",
    "     * Risk assessment frameworks for personal loans\n",
    "\n",
    "4. **Novel Contributions of This Analysis:**\n",
    "   - Dual-model approach combining:\n",
    "     * Loan approval prediction\n",
    "     * Maximum loan amount estimation\n",
    "   \n",
    "   - Enhanced loan amount calculation incorporating:\n",
    "     * Debt-to-income ratios\n",
    "     * Education level adjustments\n",
    "     * Family size considerations\n",
    "     * Risk-based multipliers\n",
    "\n",
    "5. **Methodological Differences:**\n",
    "   - Most existing analyses focus solely on binary classification (approve/deny)\n",
    "   - My approach adds regression modeling for loan amount prediction\n",
    "   - Integration of banking industry standards in loan amount calculations\n",
    "   - Consideration of multiple risk factors in final amount determination\n",
    "\n",
    "This work differentiates itself by providing a more comprehensive solution that not only predicts loan approval but also estimates appropriate loan amounts based on customer profiles and banking industry standards.\n",
    "\n",
    "References:\n",
    "1. Federal Reserve. (2023). Commercial Bank Examination Manual.\n",
    "2. Consumer Financial Protection Bureau. (2023). Ability-to-Repay and Qualified Mortgage Rule Assessment Report."
   ]
  },
  {
   "cell_type": "markdown",
   "metadata": {},
   "source": [
    "### 4. Step 1: Load Data"
   ]
  },
  {
   "cell_type": "code",
   "execution_count": 63,
   "metadata": {},
   "outputs": [],
   "source": [
    "%matplotlib inline\n",
    "import numpy as np # linear algebra\n",
    "import pandas as pd # data processing\n",
    "\n",
    "# Import data\n",
    "df=pd.read_csv(\"https://raw.githubusercontent.com/joao-reis25/dataSciencePython/refs/heads/main/csv/Bank_Personal_Loan_Modelling.csv\")"
   ]
  },
  {
   "cell_type": "markdown",
   "metadata": {},
   "source": [
    "### 5. Step 2: Prepare and explore the data"
   ]
  },
  {
   "cell_type": "markdown",
   "metadata": {},
   "source": [
    "Before starting the analysis, it is important to understand the data. First, we can check the basic information about the dataset and then explore it further with visualizations."
   ]
  },
  {
   "cell_type": "code",
   "execution_count": null,
   "metadata": {},
   "outputs": [],
   "source": [
    "# Explore the data\n",
    "# Basic information about the dataset\n",
    "print(\"Dataset Shape:\", df.shape)\n",
    "print(\"\\nDataset Info:\")\n",
    "df.info()"
   ]
  },
  {
   "cell_type": "code",
   "execution_count": null,
   "metadata": {},
   "outputs": [],
   "source": [
    "# Display first few rows and basic statistics\n",
    "print(\"\\nFirst 5 rows:\")\n",
    "display(df.head())\n",
    "print(\"\\nBasic Statistics:\")\n",
    "display(df.describe())"
   ]
  },
  {
   "cell_type": "code",
   "execution_count": null,
   "metadata": {},
   "outputs": [],
   "source": [
    "# Check for missing values\n",
    "print(\"\\nMissing Values:\")\n",
    "display(df.isnull().sum())"
   ]
  },
  {
   "cell_type": "code",
   "execution_count": null,
   "metadata": {},
   "outputs": [],
   "source": [
    "# Display unique values in each column\n",
    "print(\"\\nUnique Values per Column:\")\n",
    "for column in df.columns:\n",
    "    print(f\"\\n{column}:\")\n",
    "    print(df[column].value_counts().head())"
   ]
  },
  {
   "cell_type": "markdown",
   "metadata": {},
   "source": [
    "After exploring the data, we can create visualizations to understand it better."
   ]
  },
  {
   "cell_type": "code",
   "execution_count": 68,
   "metadata": {},
   "outputs": [],
   "source": [
    "# Create visualizations\n",
    "import matplotlib as mpl\n",
    "import matplotlib.pyplot as plt\n",
    "import seaborn as sns\n",
    "\n",
    "# Set up the plotting style\n",
    "plt.style.use('seaborn-v0_8-whitegrid')\n",
    "sns.set_palette(\"Paired\")\n"
   ]
  },
  {
   "cell_type": "code",
   "execution_count": null,
   "metadata": {},
   "outputs": [],
   "source": [
    "# Create a figure with multiple subplots\n",
    "fig = plt.figure(figsize=(15, 10))\n",
    "\n",
    "# Distribution of Personal Loan (target variable)\n",
    "plt.subplot(2, 2, 1)\n",
    "sns.countplot(data=df, x='Personal Loan')\n",
    "plt.title('Distribution of Personal Loan')\n",
    "\n",
    "# Income distribution\n",
    "plt.subplot(2, 2, 2)\n",
    "sns.histplot(data=df, x='Income', bins=25)\n",
    "plt.title('Distribution of Income')\n",
    "\n",
    "# Age distribution\n",
    "plt.subplot(2, 2, 3)\n",
    "sns.histplot(data=df, x='Age', bins=25)\n",
    "plt.title('Distribution of Age')\n",
    "\n",
    "# Experience distribution\n",
    "plt.subplot(2, 2, 4)\n",
    "sns.histplot(data=df, x='Experience', bins=25)\n",
    "plt.title('Distribution of Experience')\n",
    "\n",
    "plt.tight_layout()\n",
    "plt.savefig('REIS_personal_loan_distributions.png')\n",
    "plt.show()"
   ]
  },
  {
   "cell_type": "code",
   "execution_count": null,
   "metadata": {},
   "outputs": [],
   "source": [
    "\n",
    "# Correlation heatmap\n",
    "plt.figure(figsize=(10, 8))\n",
    "sns.heatmap(df.corr(), annot=True, cmap='coolwarm', center=0)\n",
    "plt.title('Correlation Heatmap')\n",
    "plt.tight_layout()\n",
    "plt.savefig('REIS_correlation_heatmap.png')\n",
    "plt.show()"
   ]
  },
  {
   "cell_type": "code",
   "execution_count": null,
   "metadata": {},
   "outputs": [],
   "source": [
    "# Additional insights: Education level vs Personal Loan\n",
    "plt.figure(figsize=(10, 6))\n",
    "sns.countplot(data=df, x='Education', hue='Personal Loan')\n",
    "plt.title('Education Level vs Personal Loan')\n",
    "plt.tight_layout()\n",
    "plt.savefig('REIS_education_vs_loan.png')\n",
    "plt.show()\n"
   ]
  },
  {
   "cell_type": "code",
   "execution_count": null,
   "metadata": {},
   "outputs": [],
   "source": [
    "# Income vs Personal Loan with Education\n",
    "plt.figure(figsize=(10, 6))\n",
    "sns.boxplot(data=df, x='Personal Loan', y='Income', hue='Education')\n",
    "plt.title('Income Distribution by Loan Status and Education')\n",
    "plt.tight_layout()\n",
    "plt.savefig('REIS_income_by_loan_and_education.png')\n",
    "plt.show()"
   ]
  },
  {
   "cell_type": "code",
   "execution_count": null,
   "metadata": {},
   "outputs": [],
   "source": [
    "# Create a figure for family size analysis\n",
    "plt.figure(figsize=(12, 5))\n",
    "plt.subplot(1, 2, 1)\n",
    "sns.countplot(data=df, x='Family', hue='Personal Loan')\n",
    "plt.title('Family Size vs Loan Acceptance')\n",
    "\n",
    "plt.subplot(1, 2, 2)\n",
    "sns.boxplot(data=df, x='Family', y='Income')\n",
    "plt.title('Income Distribution by Family Size')\n",
    "plt.tight_layout()\n",
    "plt.savefig('REIS_family_analysis.png')\n",
    "plt.show()"
   ]
  },
  {
   "cell_type": "code",
   "execution_count": null,
   "metadata": {},
   "outputs": [],
   "source": [
    "# Create violin plots for credit card average spending\n",
    "plt.figure(figsize=(10, 6))\n",
    "sns.violinplot(data=df, x='Personal Loan', y='CCAvg')\n",
    "plt.title('Credit Card Spending Distribution by Loan Status')\n",
    "plt.tight_layout()\n",
    "plt.savefig('REIS_credit_spending_distribution.png')\n",
    "plt.show()"
   ]
  },
  {
   "cell_type": "markdown",
   "metadata": {},
   "source": [
    "### 6. Step 3: ML Modeling\n"
   ]
  },
  {
   "cell_type": "markdown",
   "metadata": {},
   "source": [
    "*I'm going to develop two models: one to predict if a customer will take a personal loan and another to predict the maximum loan amount a customer can afford.*\n",
    "\n",
    "*The first model is a classification model, trying to predict if a customer will take a personal loan based on their income, age, education, mortgage, and credit card average usage.*\n"
   ]
  },
  {
   "cell_type": "code",
   "execution_count": null,
   "metadata": {},
   "outputs": [],
   "source": [
    "# Import necessary libraries\n",
    "from sklearn.model_selection import train_test_split\n",
    "from sklearn.preprocessing import StandardScaler\n",
    "from sklearn.linear_model import LogisticRegression, LinearRegression\n",
    "from sklearn.ensemble import RandomForestClassifier\n",
    "from sklearn.ensemble import RandomForestRegressor\n",
    "from sklearn.svm import SVC\n",
    "from sklearn.metrics import classification_report, confusion_matrix\n",
    "from sklearn.metrics import mean_squared_error, r2_score\n",
    "from sklearn.metrics import roc_curve, auc, confusion_matrix\n",
    "\n",
    "# Prepare the data\n",
    "X = df.drop(['Personal Loan', 'ID', 'ZIP Code'], axis=1)  # Remove ID and ZIP Code as they're likely not relevant\n",
    "y = df['Personal Loan']\n",
    "\n",
    "# Split the data\n",
    "X_train_approval, X_test_approval, y_train_approval, y_test_approval = train_test_split(X, y, test_size=0.2, random_state=42)\n",
    "\n",
    "# Scale the features\n",
    "scaler_approval = StandardScaler()\n",
    "X_train_scaled_approval = scaler_approval.fit_transform(X_train_approval)\n",
    "X_test_scaled_approval = scaler_approval.transform(X_test_approval)\n",
    "\n",
    "# Train and evaluate multiple models\n",
    "modelsApproval = {\n",
    "    'Logistic Regression': LogisticRegression(),\n",
    "    'Random Forest': RandomForestClassifier(),\n",
    "    'SVM': SVC()\n",
    "}\n",
    "\n",
    "for name, model in modelsApproval.items():\n",
    "    print(f\"\\nTraining {name}...\")\n",
    "    model.fit(X_train_scaled_approval, y_train_approval)\n",
    "    y_pred_approval = model.predict(X_test_scaled_approval)\n",
    "    if name == 'Random Forest':\n",
    "        y_prob_approval = model.predict_proba(X_test_scaled_approval)[:, 1]\n",
    "    print(f\"\\n{name} Results:\")\n",
    "    print(classification_report(y_test_approval, y_pred_approval))"
   ]
  },
  {
   "cell_type": "code",
   "execution_count": null,
   "metadata": {},
   "outputs": [],
   "source": [
    "# Create figure with subplots\n",
    "plt.figure(figsize=(15, 5))\n",
    "\n",
    "# 1. Confusion Matrix\n",
    "plt.subplot(1, 2, 1)\n",
    "cm = confusion_matrix(y_test_approval, y_pred_approval)\n",
    "sns.heatmap(cm, annot=True, fmt='d', cmap='Blues',\n",
    "            xticklabels=['No Loan', 'Loan'],\n",
    "            yticklabels=['No Loan', 'Loan'])\n",
    "plt.title('Confusion Matrix')\n",
    "plt.xlabel('Predicted')\n",
    "plt.ylabel('Actual')\n",
    "\n",
    "# 2. ROC Curve\n",
    "plt.subplot(1, 2, 2)\n",
    "fpr, tpr, _ = roc_curve(y_test_approval, y_prob_approval)\n",
    "roc_auc = auc(fpr, tpr)\n",
    "\n",
    "plt.plot(fpr, tpr, color='darkorange', lw=2, \n",
    "         label=f'ROC curve (AUC = {roc_auc:.2f})')\n",
    "plt.plot([0, 1], [0, 1], color='navy', lw=2, linestyle='--')\n",
    "plt.xlim([0.0, 1.0])\n",
    "plt.ylim([0.0, 1.05])\n",
    "plt.xlabel('False Positive Rate')\n",
    "plt.ylabel('True Positive Rate')\n",
    "plt.title('Receiver Operating Characteristic (ROC)')\n",
    "plt.legend(loc=\"lower right\")\n",
    "\n",
    "plt.tight_layout()\n",
    "plt.savefig('REIS_approval_model_evaluation.png')\n",
    "plt.show()"
   ]
  },
  {
   "cell_type": "code",
   "execution_count": null,
   "metadata": {},
   "outputs": [],
   "source": [
    "# Calculate and print additional metrics\n",
    "tn, fp, fn, tp = cm.ravel()\n",
    "print(\"\\nAdditional Metrics:\")\n",
    "print(f\"True Negatives: {tn}\")\n",
    "print(f\"False Positives: {fp}\")\n",
    "print(f\"False Negatives: {fn}\")\n",
    "print(f\"True Positives: {tp}\")\n",
    "print(f\"Accuracy: {(tp + tn) / (tp + tn + fp + fn):.3f}\")\n",
    "print(f\"Misclassification Rate: {(fp + fn) / (tp + tn + fp + fn):.3f}\")\n",
    "print(f\"AUC-ROC Score: {roc_auc:.3f}\")"
   ]
  },
  {
   "cell_type": "code",
   "execution_count": null,
   "metadata": {},
   "outputs": [],
   "source": [
    "# Get feature importance from Random Forest model\n",
    "features = ['Age', 'Experience', 'Income', 'Family', 'CCAvg', 'Education', 'Mortgage', 'Securities Account', 'CD Account', 'Online','CreditCard']\n",
    "\n",
    "rf_model = modelsApproval['Random Forest']\n",
    "importance_approval = pd.DataFrame({\n",
    "    'Feature': features,\n",
    "    'Importance': rf_model.feature_importances_\n",
    "})\n",
    "importance_approval = importance_approval.sort_values('Importance', ascending=False)\n",
    "\n",
    "# Visualize feature importance\n",
    "plt.figure(figsize=(10, 6))\n",
    "sns.barplot(data=importance_approval, x='Importance', y='Feature')\n",
    "plt.title('Feature Importance in Random Forest Model for Loan Approval')\n",
    "plt.xlabel('Importance Score')\n",
    "plt.tight_layout()\n",
    "plt.show()\n",
    "\n",
    "# Print numerical values\n",
    "print(\"\\nFeature Importance Ranking:\")\n",
    "for idx, row in importance_approval.iterrows():\n",
    "    print(f\"{row['Feature']}: {row['Importance']:.4f}\")"
   ]
  },
  {
   "cell_type": "code",
   "execution_count": 79,
   "metadata": {},
   "outputs": [],
   "source": [
    "def predict_loan_approval(customer_data):\n",
    "\n",
    "    # Convert customer data to correct format\n",
    "    if isinstance(customer_data, pd.Series):\n",
    "        customer_data = customer_data.to_frame().T\n",
    "    \n",
    "    # Scale the features\n",
    "    customer_scaled_approval = scaler_approval.transform(customer_data)\n",
    "    \n",
    "    # Get prediction and probability using Random Forest\n",
    "    rf_model = modelsApproval['Random Forest']\n",
    "    prediction_approval = rf_model.predict(customer_scaled_approval)[0]\n",
    "    probability_approval = rf_model.predict_proba(customer_scaled_approval)[0][1]  # Probability of class 1\n",
    "    \n",
    "    return prediction_approval, probability_approval\n"
   ]
  },
  {
   "cell_type": "markdown",
   "metadata": {},
   "source": [
    "*After predicting if a customer will take a personal loan, I want to predict the maximum loan amount a customer can afford based on their income, age, education, mortgage, and credit card average usage.*\n",
    "\n",
    "*To do this, I'm going to create a synthetic maximum loan amount based on common banking rules, including some assumptions:*\n",
    "\n",
    "* 1. Maximum debt-to-income ratio (DTI) of 43%\n",
    "* 2. Mortgage payments are spread over 10 years (120 months)\n",
    "* 3. Credit card minimum monthly payment is 5% of balance\n",
    "* 4. Personal loan term is 5 years (60 months)\n",
    "* 5. Personal loan interest rate is 7% annually\n",
    "* 6. Income values are in thousands of dollars\n",
    "* 7. Credit card average spending (CCAvg) represents current CC debt\n"
   ]
  },
  {
   "cell_type": "code",
   "execution_count": null,
   "metadata": {},
   "outputs": [],
   "source": [
    "def calculate_theoretical_max_loan(row):\n",
    "    # Convert annual values to monthly\n",
    "    monthly_income = row['Income'] * 1000 / 12  # Convert from thousands to actual amount\n",
    "    monthly_mortgage = row['Mortgage'] * 1000 / 120 if row['Mortgage'] > 0 else 0\n",
    "    monthly_cc_payment = row['CCAvg'] * 1000 * 0.05  # Assume 5% minimum payment on CC debt\n",
    "    \n",
    "    # Calculate debt-to-income ratio (DTI)\n",
    "    current_dti = (monthly_mortgage + monthly_cc_payment) / monthly_income\n",
    "    max_dti = 0.43\n",
    "    \n",
    "    # Available DTI headroom\n",
    "    available_dti = max_dti - current_dti\n",
    "    \n",
    "    # Calculate maximum monthly payment based on available DTI\n",
    "    max_monthly_payment = monthly_income * available_dti\n",
    "    \n",
    "    # Loan parameters\n",
    "    annual_interest = 0.07  # 7% annual interest\n",
    "    r = annual_interest / 12  # monthly interest rate\n",
    "    n = 60  # 5-year term in months\n",
    "    \n",
    "    # Calculate maximum loan amount using present value formula\n",
    "    # PV = PMT * ((1 - (1 + r)^-n) / r)\n",
    "    max_loan = max_monthly_payment * ((1 - (1 + r)**(-n)) / r)\n",
    "    \n",
    "    # Apply additional risk-based adjustments\n",
    "    risk_multiplier = 1.0\n",
    "    \n",
    "    # Adjust based on education level\n",
    "    education_adjustments = {1: 0.9, 2: 1.0, 3: 1.1}  # Undergrad, Graduate, Professional\n",
    "    risk_multiplier *= education_adjustments.get(row['Education'], 1.0)\n",
    "\n",
    "    # Adjust based on family size\n",
    "    family_adjustments = {\n",
    "        1: 1.0,  # Single\n",
    "        2: 1.05, # Couple\n",
    "        3: 0.95, # Small family\n",
    "        4: 0.90  # Large family\n",
    "    }\n",
    "    risk_multiplier *= family_adjustments.get(row['Family'], 0.90) # Default to most conservative for larger families\n",
    "    \n",
    "    # Apply final calculations\n",
    "    final_max_loan = max_loan * risk_multiplier\n",
    "    \n",
    "    # Set minimum and maximum limits\n",
    "    min_loan = 5000  # Minimum loan amount\n",
    "    max_loan_cap = monthly_income * 36  # Cap at 3 years of income\n",
    "    \n",
    "    return max(min_loan, min(final_max_loan, max_loan_cap))\n",
    "\n",
    "# Create target variable\n",
    "df['Theoretical_Max_Loan'] = df.apply(calculate_theoretical_max_loan, axis=1)\n",
    "\n",
    "X_max_loan = df[features]\n",
    "y_max_loan = df['Theoretical_Max_Loan']\n",
    "\n",
    "\n",
    "X_train_ml, X_test_ml, y_train_ml, y_test_ml = train_test_split(X_max_loan, y_max_loan, test_size=0.2, random_state=42)\n",
    "scaler_max_loan = StandardScaler()\n",
    "X_train_scaled_ml = scaler_max_loan.fit_transform(X_train_ml)\n",
    "X_test_scaled_ml = scaler_max_loan.transform(X_test_ml)\n",
    "\n",
    "# Train multiple regression models\n",
    "modelsAmount = {\n",
    "    'Linear Regression': LinearRegression(),\n",
    "    'Random Forest': RandomForestRegressor(n_estimators=100)\n",
    "}\n",
    "\n",
    "for name, model in modelsAmount.items():\n",
    "    print(f\"\\nTraining {name}...\")\n",
    "    model.fit(X_train_scaled_ml, y_train_ml)\n",
    "    y_pred_ml = model.predict(X_test_scaled_ml)\n",
    "    print(f\"R2 Score: {r2_score(y_test_ml, y_pred_ml):.3f}\")\n",
    "    print(f\"RMSE: ${np.sqrt(mean_squared_error(y_test_ml, y_pred_ml)):,.2f}\")"
   ]
  },
  {
   "cell_type": "code",
   "execution_count": 81,
   "metadata": {},
   "outputs": [],
   "source": [
    "# Function to predict max loan for new customers\n",
    "def predict_max_loan(model, customer_data):\n",
    "    customer_scaled_max_loan = scaler_max_loan.transform(customer_data)\n",
    "    predicted_amount = model.predict(customer_scaled_max_loan)[0]\n",
    "    return max(0, predicted_amount)"
   ]
  },
  {
   "cell_type": "code",
   "execution_count": null,
   "metadata": {},
   "outputs": [],
   "source": [
    "# Get feature importance from Random Forest model\n",
    "rf_model = modelsAmount['Random Forest']\n",
    "\n",
    "importance_max_loan = pd.DataFrame({\n",
    "    'Feature': features,\n",
    "    'Importance': rf_model.feature_importances_\n",
    "})\n",
    "importance_max_loan = importance_max_loan.sort_values('Importance', ascending=False)\n",
    "\n",
    "#print(importance_max_loan)\n",
    "\n",
    "# Visualize feature importance\n",
    "plt.figure(figsize=(10, 6))\n",
    "sns.barplot(data=importance_max_loan, x='Importance', y='Feature')\n",
    "plt.title('Feature Importance in Random Forest Model for Max Loan Amount')\n",
    "plt.xlabel('Importance Score')\n",
    "plt.tight_layout()\n",
    "plt.show()\n",
    "\n",
    "# Print numerical values\n",
    "print(\"\\nFeature Importance Ranking:\")\n",
    "for idx, row in importance_max_loan.iterrows():\n",
    "    print(f\"{row['Feature']}: {row['Importance']:.4f}\")"
   ]
  },
  {
   "cell_type": "markdown",
   "metadata": {},
   "source": [
    "### 7. Step 4: Model Results Interpretation"
   ]
  },
  {
   "cell_type": "markdown",
   "metadata": {},
   "source": [
    "*After developing two models to predict if a customer will take a personal loan and the maximum loan amount a customer can afford, I want to test the models with different customer profiles.*\n",
    "\n",
    "*Bellow are 5 different customer profiles with different characteristics to whom I will apply the models.*\n"
   ]
  },
  {
   "cell_type": "code",
   "execution_count": 83,
   "metadata": {},
   "outputs": [],
   "source": [
    "#Test different customer profiles\n",
    "example_customers = pd.DataFrame({\n",
    "    'Age':                 [28,    42,    25,    52,    65],\n",
    "    'Experience':          [5,     18,    0,     25,    35],\n",
    "    'Income':             [75,    120,    65,    250,    90],\n",
    "    'Family':             [1,     4,     1,     3,     2],\n",
    "    'CCAvg':              [2.5,   3.5,   3.0,   8.0,   0],\n",
    "    'Education':          [2,     3,     2,     3,     2],  # 1=Undergrad, 2=Graduate, 3=Professional\n",
    "    'Mortgage':           [150,   300,    0,     500,    50],\n",
    "    'Securities Account': [0,     1,     0,     1,     1],\n",
    "    'CD Account':         [0,     1,     1,     1,     1],\n",
    "    'Online':             [1,     1,     1,     0,     0],\n",
    "    'CreditCard':         [1,     1,     1,     1,     0]\n",
    "}, index=['Young_Professional', 'Mid_Career_Parent', 'Recent_Graduate', 'Senior_Executive', 'Retiree'])"
   ]
  },
  {
   "cell_type": "code",
   "execution_count": null,
   "metadata": {},
   "outputs": [],
   "source": [
    "# Create empty lists to store results\n",
    "results = []\n",
    "\n",
    "for idx, customer in example_customers.iterrows():\n",
    "    prediction, probability = predict_loan_approval(pd.Series(customer))\n",
    "    \n",
    "    # Calculate max loan if approved\n",
    "    max_loan = 0\n",
    "    if prediction == 1:\n",
    "        loan_features = customer[['Age', 'Experience', 'Income', 'Family', 'CCAvg', 'Education', 'Mortgage', 'Securities Account', 'CD Account', 'Online','CreditCard']].to_frame().T\n",
    "        max_loan = predict_max_loan(modelsAmount['Random Forest'], loan_features)\n",
    "    \n",
    "    # Add results to list\n",
    "    results.append({\n",
    "        'Customer Type': idx,\n",
    "        'Income': f\"${customer['Income']*1000:,.0f}\",\n",
    "        'Education': ['Undergrad', 'Graduate', 'Professional'][int(customer['Education'])-1],\n",
    "        'Age': customer['Age'],\n",
    "        'Experience': f\"{customer['Experience']} years\",\n",
    "        'Mortgage': f\"${customer['Mortgage']*1000:,.0f}\",\n",
    "        'CCAvg': f\"${customer['CCAvg']:,.2f}k\",\n",
    "        'Loan Decision': 'Approved' if prediction == 1 else 'Not Approved',\n",
    "        'Approval Probability': f\"{probability:.2%}\",\n",
    "        'Max Loan Amount': f\"${max_loan:,.2f}\" if prediction == 1 else 'N/A'\n",
    "    })\n",
    "\n",
    "# Create and display DataFrame\n",
    "results_df = pd.DataFrame(results)\n",
    "display(results_df)"
   ]
  },
  {
   "cell_type": "markdown",
   "metadata": {},
   "source": [
    "#### **Model Results Interpretation**\n",
    "\n",
    "Based on my analysis and model results, I can draw several key insights:\n",
    "\n",
    "1. Loan Approval Model Performance:\n",
    "   - The Random Forest classifier showed the best performance among the tested models:\n",
    "     * Accuracy: 99%\n",
    "     * Class 0 (No Loan):\n",
    "       - Precision: 0.99\n",
    "       - Recall: 1.00\n",
    "       - F1-Score: 0.99\n",
    "       - Support: 400\n",
    "     * Class 1 (Loan Approved):\n",
    "       - Precision: 0.98\n",
    "       - Recall: 0.95\n",
    "       - F1-Score: 0.97\n",
    "       - Support: 100\n",
    "   - Key predictive features (in order of importance):\n",
    "     * Income\n",
    "     * Education\n",
    "     * CCAvg\n",
    "     * Family\n",
    "     * CD Account\n",
    "\n",
    "2. Maximum Loan Amount Model:\n",
    "   - The Random Forest regressor achieved an R² score of 0.987\n",
    "   - Most influential factors for loan amount:\n",
    "     * Income\n",
    "     * Mortgage\n",
    "     * Education\n",
    "     * Family\n",
    "\n",
    "3. Customer Profile Analysis:\n",
    "   - Senior executives and mid-career professionals show highest approval probabilities\n",
    "   - Young professionals and recent graduates have moderate approval chances\n",
    "   - Retirees show lowest approval probability\n",
    "   - Maximum loan amounts correlate strongly with income levels and existing debt\n",
    "\n",
    "4. Business Implications:\n",
    "   - The models can effectively segment customers for targeted loan marketing\n",
    "   - Risk assessment is well-balanced, considering both income and existing obligations\n",
    "   - Education level plays a significant role in loan amount determination\n",
    "   - The automated system could streamline loan approval processes while maintaining risk controls\n",
    "\n",
    "\n",
    "***"
   ]
  },
  {
   "cell_type": "markdown",
   "metadata": {},
   "source": []
  }
 ],
 "metadata": {
  "kernelspec": {
   "display_name": ".venv",
   "language": "python",
   "name": "python3"
  },
  "language_info": {
   "codemirror_mode": {
    "name": "ipython",
    "version": 3
   },
   "file_extension": ".py",
   "mimetype": "text/x-python",
   "name": "python",
   "nbconvert_exporter": "python",
   "pygments_lexer": "ipython3",
   "version": "3.12.5"
  }
 },
 "nbformat": 4,
 "nbformat_minor": 2
}
