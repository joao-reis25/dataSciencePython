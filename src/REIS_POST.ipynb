{
 "cells": [
  {
   "cell_type": "markdown",
   "metadata": {},
   "source": [
    "# Data Management & Analytics in Python\n",
    "\n",
    "### WU Executive Academy: Data Science\n",
    "\n",
    "### Post Module - João Reis\n",
    "\n",
    "***"
   ]
  },
  {
   "cell_type": "markdown",
   "metadata": {},
   "source": [
    "*In the Advanced track, you will do a mini end-to-end Data Science project on a topic of your choice using an existing publicly available data set. The notebook you hand in should be roughly structured as follows:*"
   ]
  },
  {
   "cell_type": "markdown",
   "metadata": {},
   "source": [
    "### 1. Case Description\n",
    "\n",
    "***Motivation***\n",
    "\n",
    "*This project focuses on analyzing bank personal loan data to develop predictive models that can enhance the decision-making process in retail banking. In today's competitive banking environment, accurately assessing loan applications and determining appropriate loan amounts is crucial for both risk management and customer satisfaction. By leveraging machine learning techniques, banks can potentially automate and improve their loan approval processes while maintaining prudent risk management practices.*\n",
    "\n",
    "***Research Questions***\n",
    "\n",
    "\n",
    "1. *Loan Approval Prediction:*\n",
    "   - Can we accurately predict whether a customer will accept a personal loan offer based on their demographic and financial characteristics?\n",
    "   - Which customer attributes are the most significant predictors of loan acceptance?\n",
    "\n",
    "2. *Maximum Loan Amount Estimation:*\n",
    "   - What is the optimal maximum loan amount that can be safely offered to different customer segments?\n",
    "   - How do factors such as income, education level, and existing financial obligations influence the recommended loan amount?\n",
    "\n",
    "3. *Customer Segmentation:*\n",
    "   - Are there distinct customer profiles that emerge from the data?\n",
    "   - How do different customer segments vary in their loan acceptance patterns and creditworthiness?\n",
    "\n",
    "4. *Risk Assessment:*\n",
    "   - What combination of factors indicates higher or lower risk in personal loan customers?\n",
    "   - How can we balance maximizing loan approvals while minimizing potential defaults?\n",
    "\n",
    "*This analysis aims to provide insights that could help banks optimize their personal loan offerings while maintaining appropriate risk levels and improving customer targeting strategies.*\n"
   ]
  },
  {
   "cell_type": "markdown",
   "metadata": {},
   "source": [
    "### 2. Dataset\n",
    "\n",
    "The dataset was downloaded from Kaggle (https://www.kaggle.com/datasets/samira1992/bank-loan-intermediate-dataset) and contains information about bank customers, including their demographic and financial characteristics.\n",
    "\n",
    "I chose to use this dataset because of its simplicity and the fact it is already cleaned. Given that I'm only starting my journey in Data Science, I thought it would be best to focus on the more complex problems and apply the techniques I've learned in class."
   ]
  },
  {
   "cell_type": "markdown",
   "metadata": {},
   "source": [
    "### 3. Related work\n",
    "\n",
    "Deferences to literature and other notebooks available online that you have\n",
    "looked into."
   ]
  },
  {
   "cell_type": "markdown",
   "metadata": {},
   "source": [
    "### 4. Step 1: Load Data"
   ]
  },
  {
   "cell_type": "code",
   "execution_count": 24,
   "metadata": {},
   "outputs": [],
   "source": [
    "import numpy as np # linear algebra\n",
    "import pandas as pd # data processing\n",
    "\n",
    "# Import data\n",
    "df=pd.read_csv(\"https://raw.githubusercontent.com/joao-reis25/dataSciencePython/refs/heads/main/csv/Bank_Personal_Loan_Modelling.csv\")"
   ]
  },
  {
   "cell_type": "markdown",
   "metadata": {},
   "source": [
    "### 5. Step 2: Prepare and explore the data"
   ]
  },
  {
   "cell_type": "markdown",
   "metadata": {},
   "source": [
    "Before starting the analysis, it is important to understand the data. First, we can check the basic information about the dataset and then explore it further with visualizations."
   ]
  },
  {
   "cell_type": "code",
   "execution_count": null,
   "metadata": {},
   "outputs": [],
   "source": [
    "# Explore the data\n",
    "# Basic information about the dataset\n",
    "print(\"Dataset Shape:\", df.shape)\n",
    "print(\"\\nDataset Info:\")\n",
    "df.info()"
   ]
  },
  {
   "cell_type": "code",
   "execution_count": null,
   "metadata": {},
   "outputs": [],
   "source": [
    "# Display first few rows and basic statistics\n",
    "print(\"\\nFirst 5 rows:\")\n",
    "display(df.head())\n",
    "print(\"\\nBasic Statistics:\")\n",
    "display(df.describe())"
   ]
  },
  {
   "cell_type": "code",
   "execution_count": null,
   "metadata": {},
   "outputs": [],
   "source": [
    "# Check for missing values\n",
    "print(\"\\nMissing Values:\")\n",
    "display(df.isnull().sum())"
   ]
  },
  {
   "cell_type": "code",
   "execution_count": null,
   "metadata": {},
   "outputs": [],
   "source": [
    "# Display unique values in each column\n",
    "print(\"\\nUnique Values per Column:\")\n",
    "for column in df.columns:\n",
    "    print(f\"\\n{column}:\")\n",
    "    print(df[column].value_counts().head())"
   ]
  },
  {
   "cell_type": "code",
   "execution_count": null,
   "metadata": {},
   "outputs": [],
   "source": [
    "# Create visualizations\n",
    "import matplotlib as mpl # visualizations\n",
    "import matplotlib.pyplot as plt\n",
    "import seaborn as sns\n",
    "\n",
    "# Set up the plotting style\n",
    "plt.style.use('seaborn')\n",
    "sns.set_palette(\"husl\")\n",
    "\n",
    "# Create a figure with multiple subplots\n",
    "fig = plt.figure(figsize=(15, 10))\n",
    "\n",
    "# Distribution of Personal Loan (target variable)\n",
    "plt.subplot(2, 2, 1)\n",
    "sns.countplot(data=df, x='Personal Loan')\n",
    "plt.title('Distribution of Personal Loan')\n",
    "\n",
    "# Income distribution\n",
    "plt.subplot(2, 2, 2)\n",
    "sns.histplot(data=df, x='Income', bins=30)\n",
    "plt.title('Distribution of Income')\n",
    "\n",
    "# Age distribution\n",
    "plt.subplot(2, 2, 3)\n",
    "sns.histplot(data=df, x='Age', bins=30)\n",
    "plt.title('Distribution of Age')\n",
    "\n",
    "# Correlation heatmap\n",
    "plt.figure(figsize=(10, 8))\n",
    "sns.heatmap(df.corr(), annot=True, cmap='coolwarm', center=0)\n",
    "plt.title('Correlation Heatmap')\n",
    "\n",
    "plt.tight_layout()\n",
    "plt.show()\n",
    "\n",
    "# Additional insights: Education level vs Personal Loan\n",
    "plt.figure(figsize=(10, 6))\n",
    "sns.countplot(data=df, x='Education', hue='Personal Loan')\n",
    "plt.title('Education Level vs Personal Loan')\n",
    "plt.show()\n",
    "\n",
    "# Income vs Personal Loan with Education\n",
    "plt.figure(figsize=(10, 6))\n",
    "sns.boxplot(data=df, x='Personal Loan', y='Income', hue='Education')\n",
    "plt.title('Income Distribution by Loan Status and Education')\n",
    "plt.show()"
   ]
  },
  {
   "cell_type": "markdown",
   "metadata": {},
   "source": [
    "**6. Step 3: ML Modeling**"
   ]
  },
  {
   "cell_type": "markdown",
   "metadata": {},
   "source": [
    "The first model is a classification model, trying to predict if a customer will take a personal loan based on their income, age, education, mortgage, and credit card average usage."
   ]
  },
  {
   "cell_type": "code",
   "execution_count": null,
   "metadata": {},
   "outputs": [],
   "source": [
    "# Import necessary libraries\n",
    "from sklearn.model_selection import train_test_split\n",
    "from sklearn.preprocessing import StandardScaler\n",
    "from sklearn.linear_model import LogisticRegression\n",
    "from sklearn.ensemble import RandomForestClassifier\n",
    "from sklearn.svm import SVC\n",
    "from sklearn.metrics import classification_report, confusion_matrix\n",
    "\n",
    "# Prepare the data\n",
    "X = df.drop(['Personal Loan', 'ID', 'ZIP Code'], axis=1)  # Remove ID and ZIP Code as they're likely not relevant\n",
    "y = df['Personal Loan']\n",
    "\n",
    "# Split the data\n",
    "X_train, X_test, y_train, y_test = train_test_split(X, y, test_size=0.2, random_state=42)\n",
    "\n",
    "# Scale the features\n",
    "scaler = StandardScaler()\n",
    "X_train_scaled = scaler.fit_transform(X_train)\n",
    "X_test_scaled = scaler.transform(X_test)\n",
    "\n",
    "# Train and evaluate multiple models\n",
    "models = {\n",
    "    'Logistic Regression': LogisticRegression(),\n",
    "    'Random Forest': RandomForestClassifier(),\n",
    "    'SVM': SVC()\n",
    "}\n",
    "\n",
    "for name, model in models.items():\n",
    "    print(f\"\\nTraining {name}...\")\n",
    "    model.fit(X_train_scaled, y_train)\n",
    "    y_pred = model.predict(X_test_scaled)\n",
    "    print(f\"\\n{name} Results:\")\n",
    "    print(classification_report(y_test, y_pred))"
   ]
  },
  {
   "cell_type": "markdown",
   "metadata": {},
   "source": [
    "After predicting if a customer will take a personal loan, I want to predict the maximum loan amount a customer can afford based on their income, age, education, mortgage, and credit card average usage. \n"
   ]
  },
  {
   "cell_type": "code",
   "execution_count": null,
   "metadata": {},
   "outputs": [],
   "source": [
    "# Create a synthetic maximum loan amount based on common banking rules\n",
    "# This is a simplified example - actual banking rules are more complex\n",
    "def calculate_theoretical_max_loan(row):\n",
    "    # Common rules of thumb:\n",
    "    # - Maximum monthly payment = 40% of monthly income\n",
    "    # - Loan term = 3 years\n",
    "    # - Consider existing obligations (mortgage, credit card)\n",
    "    \n",
    "    monthly_income = row['Income'] * 1000 / 12  # Assuming income is in thousands\n",
    "    existing_obligations = (row['Mortgage'] / 12) + (row['CCAvg'] * 1000)\n",
    "    available_monthly_payment = (monthly_income * 0.4) - existing_obligations\n",
    "    \n",
    "    # Simple present value calculation for 3-year loan at 10% annual interest\n",
    "    r = 0.07 / 12  # monthly interest rate\n",
    "    n = 36         # number of months\n",
    "    max_loan = available_monthly_payment * ((1 - (1 + r)**(-n)) / r)\n",
    "    \n",
    "    return max(0, max_loan)  # Ensure non-negative\n",
    "\n",
    "# Create target variable\n",
    "df['Theoretical_Max_Loan'] = df.apply(calculate_theoretical_max_loan, axis=1)\n",
    "\n",
    "# Prepare features for regression\n",
    "features = ['Age', 'Experience', 'Income', 'CCAvg', 'Education', 'Mortgage']\n",
    "X = df[features]\n",
    "y = df['Theoretical_Max_Loan']\n",
    "\n",
    "# Split and scale data\n",
    "from sklearn.model_selection import train_test_split\n",
    "from sklearn.preprocessing import StandardScaler\n",
    "\n",
    "X_train, X_test, y_train, y_test = train_test_split(X, y, test_size=0.2, random_state=42)\n",
    "scaler = StandardScaler()\n",
    "X_train_scaled = scaler.fit_transform(X_train)\n",
    "X_test_scaled = scaler.transform(X_test)\n",
    "\n",
    "# Train multiple regression models\n",
    "from sklearn.linear_model import LinearRegression\n",
    "from sklearn.ensemble import RandomForestRegressor\n",
    "from sklearn.metrics import mean_squared_error, r2_score\n",
    "\n",
    "models = {\n",
    "    'Linear Regression': LinearRegression(),\n",
    "    'Random Forest': RandomForestRegressor(n_estimators=100)\n",
    "}\n",
    "\n",
    "for name, model in models.items():\n",
    "    print(f\"\\nTraining {name}...\")\n",
    "    model.fit(X_train_scaled, y_train)\n",
    "    y_pred = model.predict(X_test_scaled)\n",
    "    print(f\"R2 Score: {r2_score(y_test, y_pred):.3f}\")\n",
    "    print(f\"RMSE: ${np.sqrt(mean_squared_error(y_test, y_pred)):,.2f}\")\n",
    "\n",
    "# Function to predict max loan for new customers\n",
    "def predict_max_loan(model, customer_data):\n",
    "    customer_scaled = scaler.transform(customer_data)\n",
    "    predicted_amount = model.predict(customer_scaled)[0]\n",
    "    return max(0, predicted_amount)"
   ]
  },
  {
   "cell_type": "code",
   "execution_count": null,
   "metadata": {},
   "outputs": [],
   "source": [
    "# Test different customer profiles\n",
    "test_customers = pd.DataFrame({\n",
    "    'Age':        [25,    35,    45,    55],\n",
    "    'Experience': [3,     10,    20,    30],\n",
    "    'Income':     [40,    80,    120,   200],\n",
    "    'CCAvg':      [1,     2,     4,     6],\n",
    "    'Education':  [1,     2,     3,     3],  # 1=Undergrad, 2=Graduate, 3=Advanced/Professional\n",
    "    'Mortgage':   [0,     100000, 200000, 300000]\n",
    "})\n",
    "\n",
    "print(\"Predicted maximum loan amounts for different customer profiles:\")\n",
    "print(\"-\" * 80)\n",
    "for idx, customer in test_customers.iterrows():\n",
    "    customer_df = pd.DataFrame([customer])\n",
    "    max_loan = predict_max_loan(models['Random Forest'], customer_df)\n",
    "    print(f\"\\nCustomer Profile {idx + 1}:\")\n",
    "    print(f\"Age: {customer['Age']}, Experience: {customer['Experience']} years\")\n",
    "    print(f\"Income: ${customer['Income']*1000:,.0f}, Education: {customer['Education']}\")\n",
    "    print(f\"Credit Card Avg: ${customer['CCAvg']*1000:,.0f}, Mortgage: ${customer['Mortgage']:,.0f}\")\n",
    "    print(f\"Predicted maximum loan amount: ${max_loan:,.2f}\")"
   ]
  },
  {
   "cell_type": "markdown",
   "metadata": {},
   "source": []
  }
 ],
 "metadata": {
  "kernelspec": {
   "display_name": ".venv",
   "language": "python",
   "name": "python3"
  },
  "language_info": {
   "codemirror_mode": {
    "name": "ipython",
    "version": 3
   },
   "file_extension": ".py",
   "mimetype": "text/x-python",
   "name": "python",
   "nbconvert_exporter": "python",
   "pygments_lexer": "ipython3",
   "version": "3.12.5"
  }
 },
 "nbformat": 4,
 "nbformat_minor": 2
}
